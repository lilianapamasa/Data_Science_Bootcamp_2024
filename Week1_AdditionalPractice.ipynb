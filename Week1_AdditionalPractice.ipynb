{
 "cells": [
  {
   "cell_type": "markdown",
   "id": "1e6986df-2cbc-443e-b60b-3c436a011a63",
   "metadata": {},
   "source": [
    "## Challenge Problems from Week 1 "
   ]
  },
  {
   "cell_type": "code",
   "execution_count": 115,
   "id": "0e1b3d52-bf02-4b82-a4e0-b9eeacc814e1",
   "metadata": {},
   "outputs": [],
   "source": [
    "books = [\n",
    "    {\n",
    "        \"title\": \"The Great Gatsby\",\n",
    "        \"author\": \"F. Scott Fitzgerald\",\n",
    "        \"genre\": \"Fiction\",\n",
    "        \"rating\": 4.2\n",
    "    },\n",
    "    {\n",
    "        \"title\": \"To Kill a Mockingbird\",\n",
    "        \"author\": \"Harper Lee\",\n",
    "        \"genre\": \"Classic\",\n",
    "        \"rating\": 4.5\n",
    "    },\n",
    "    {\n",
    "        \"title\": \"1984\",\n",
    "        \"author\": \"George Orwell\",\n",
    "        \"genre\": \"Dystopian\",\n",
    "        \"rating\": 4.8\n",
    "    },\n",
    "    {\n",
    "        \"title\": \"Pride and Prejudice\",\n",
    "        \"author\": \"Jane Austen\",\n",
    "        \"genre\": \"Romance\",\n",
    "        \"rating\": 4.7\n",
    "    },\n",
    "    {\n",
    "        \"title\": \"Harry Potter and the Sorcerer's Stone\",\n",
    "        \"author\": \"J.K. Rowling\",\n",
    "        \"genre\": \"Fantasy\",\n",
    "        \"rating\": 4.9\n",
    "    },\n",
    "    {\n",
    "        \"title\": \"The Catcher in the Rye\",\n",
    "        \"author\": \"J.D. Salinger\",\n",
    "        \"genre\": \"Coming-of-age\",\n",
    "        \"rating\": 4.1\n",
    "    }\n",
    "]"
   ]
  },
  {
   "cell_type": "markdown",
   "id": "a3ae6239-810c-44b3-bd24-3c75b676ccc1",
   "metadata": {},
   "source": [
    "#### 1.Checking Book Ratings\n",
    "\n",
    "Write a function check_rating(book) that takes a book dictionary and returns True if the rating is greater than 4.5, and False otherwise. Additionally, modify the function to return 'low' if the rating is less than or equal to 4.0, 'medium' if it's greater than 4.0 but less than or equal to 4.5, and 'high' if it's greater than 4.5.\n"
   ]
  },
  {
   "cell_type": "code",
   "execution_count": 95,
   "id": "5dd49291-e0d7-4168-8b33-610f2c16f659",
   "metadata": {},
   "outputs": [
    {
     "name": "stdout",
     "output_type": "stream",
     "text": [
      "The Book, The Great Gatsby, has a medium rating of 4.2.\n",
      "The Book, To Kill a Mockingbird, has a medium rating of 4.5.\n",
      "The Book, 1984, has a high rating of 4.8.\n",
      "The Book, Pride and Prejudice, has a high rating of 4.7.\n",
      "The Book, Harry Potter and the Sorcerer's Stone, has a high rating of 4.9.\n",
      "The Book, The Catcher in the Rye, has a medium rating of 4.1.\n"
     ]
    }
   ],
   "source": [
    "def check_rating(book):\n",
    "    '''Function that checks for rating > 4.5'''\n",
    "    for i in books:  \n",
    "        \n",
    "        if i['rating'] > float(4.5):\n",
    "            \n",
    "            print(f\"The Book, {i['title']}, has a high rating of {i['rating']}.\")\n",
    "                \n",
    "        elif float(4.0) < i['rating'] <= float(4.5):\n",
    "             \n",
    "            print(f\"The Book, {i['title']}, has a medium rating of {i['rating']}.\")\n",
    "            \n",
    "        elif (i['rating'] <= float(4.0)):\n",
    "            \n",
    "            print(f\"The Book, {i['title']}, has a low rating of {i['rating']}.\")\n",
    "            \n",
    "        else:\n",
    "            \n",
    "            print(f\"There is no rating for {i['title']}.\")\n",
    "\n",
    "\n",
    "check_rating(books)       "
   ]
  },
  {
   "cell_type": "markdown",
   "id": "72618776-7473-451b-9bd0-18119143a295",
   "metadata": {},
   "source": [
    "#### 2.Average Rating by Genre\n",
    "\n",
    "Write a function average_rating_by_genre(books, genre) that accepts the list of books and a genre, and returns the average rating for that genre. If the genre does not exist in the list, return an appropriate message."
   ]
  },
  {
   "cell_type": "code",
   "execution_count": 116,
   "id": "42db8f1d-25b7-4565-af8e-aa14ef4071be",
   "metadata": {},
   "outputs": [
    {
     "name": "stdin",
     "output_type": "stream",
     "text": [
      "Please enter a genre to search for:  Classic\n"
     ]
    },
    {
     "name": "stdout",
     "output_type": "stream",
     "text": [
      "The average rating for Classic is 4.5\n"
     ]
    }
   ],
   "source": [
    "def average_rating_by_genre(books, genre):\n",
    "    '''Function to calculate the average rating for a given genre'''\n",
    "    ratings = []\n",
    "    \n",
    "    # Collect ratings for the given genre\n",
    "    for i in books:\n",
    "        \n",
    "        if i['genre'] == genre:\n",
    "            \n",
    "            ratings.append(i['rating'])\n",
    "    \n",
    "    # Calculate and print the average rating if there are any ratings for the genre\n",
    "    if ratings:\n",
    "        \n",
    "        avg_rating = sum(ratings) / len(ratings)\n",
    "        \n",
    "        print(f\"The average rating for {genre} is {avg_rating:.1f}\")\n",
    "   \n",
    "    else:\n",
    "        \n",
    "        print(f\"No books found for the genre {genre}.\")\n",
    "\n",
    "genre = input(\"Please enter a genre to search for: \")\n",
    "\n",
    "average_rating_by_genre(books, genre)"
   ]
  },
  {
   "cell_type": "markdown",
   "id": "a839604f-847c-4c56-b9c7-2fdfaf6f482a",
   "metadata": {},
   "source": [
    "#### 3.Books by Author\n",
    "\n",
    "Write a function books_by_author(books, author) that accepts the book list and an author's name, and returns a list of all the books written by that author. If the author does not exist, raise a custom error."
   ]
  },
  {
   "cell_type": "code",
   "execution_count": 117,
   "id": "34eaec19-4659-4915-b329-815090179bea",
   "metadata": {},
   "outputs": [
    {
     "name": "stdin",
     "output_type": "stream",
     "text": [
      "Please enter an author to search for: Jane Austen\n"
     ]
    },
    {
     "name": "stdout",
     "output_type": "stream",
     "text": [
      "From this list, Jane Austen has written:\n",
      "- Pride and Prejudice\n"
     ]
    }
   ],
   "source": [
    "\n",
    "def books_by_author(books, author):\n",
    "    \n",
    "    lst=[]   \n",
    "    \n",
    "    for i in books:\n",
    "        \n",
    "        if i['author'] == author:\n",
    "            \n",
    "            lst.append(i['title'])\n",
    "            \n",
    "    if lst:\n",
    "        \n",
    "        print(f\"From this book list, {author} has written:\")\n",
    "        \n",
    "        for title in lst:\n",
    "            \n",
    "            print(f\"- {title}\") \n",
    "    else:\n",
    "        \n",
    "        print(\"That author is not found in this book list.\")\n",
    "            \n",
    "\n",
    "author = input(\"Please enter an author to search for:\")\n",
    "\n",
    "books_by_author(books, author)"
   ]
  },
  {
   "cell_type": "code",
   "execution_count": null,
   "id": "ec1d7660-c2a8-4406-9b74-c78d49e19ad6",
   "metadata": {},
   "outputs": [],
   "source": []
  }
 ],
 "metadata": {
  "kernelspec": {
   "display_name": "Python 3 (ipykernel)",
   "language": "python",
   "name": "python3"
  },
  "language_info": {
   "codemirror_mode": {
    "name": "ipython",
    "version": 3
   },
   "file_extension": ".py",
   "mimetype": "text/x-python",
   "name": "python",
   "nbconvert_exporter": "python",
   "pygments_lexer": "ipython3",
   "version": "3.12.3"
  }
 },
 "nbformat": 4,
 "nbformat_minor": 5
}
