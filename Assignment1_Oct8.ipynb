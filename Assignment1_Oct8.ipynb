{
 "cells": [
  {
   "cell_type": "markdown",
   "id": "c0290b46-30dc-4581-ac11-6b0f78c1b74a",
   "metadata": {},
   "source": [
    "# NYU Fall 2024 Data Science Bootcamp Assignment 1\n",
    "By: Liliana Pamasa"
   ]
  },
  {
   "cell_type": "markdown",
   "id": "d37daf2a-d0c0-4c4f-a38e-4467967638f2",
   "metadata": {},
   "source": [
    "#### 1. Write a function  count_vowels(word) that takes a word as an argument and returns the number of vowels in the word."
   ]
  },
  {
   "cell_type": "code",
   "execution_count": 63,
   "id": "a5c86d07-b0ed-4aa4-9681-92a09cc4a274",
   "metadata": {},
   "outputs": [
    {
     "name": "stdin",
     "output_type": "stream",
     "text": [
      "Please enter a word: October\n"
     ]
    },
    {
     "name": "stdout",
     "output_type": "stream",
     "text": [
      "The word October has 3 vowels.\n"
     ]
    }
   ],
   "source": [
    "def count_vowels(word):\n",
    "    '''Function that counts the number of vowels in a word'''\n",
    "    count=0\n",
    "    vowels=\"aeiouAEIOU\"\n",
    "    for i in word:\n",
    "        if i in vowels:\n",
    "            count+=1\n",
    "    return print(f\"The word {word} has {count} vowels.\")\n",
    "\n",
    "word = input(\"Please enter a word:\")\n",
    "count_vowels(word)"
   ]
  },
  {
   "cell_type": "markdown",
   "id": "1335f286-bb8e-4523-b42b-8a4ef3160797",
   "metadata": {},
   "source": [
    "#### 2. Iterate through the following list of animals and print each one in all caps.\n",
    "####         animals=['tiger', 'elephant', 'monkey', 'zebra', 'panther']"
   ]
  },
  {
   "cell_type": "code",
   "execution_count": 64,
   "id": "7987b468-67ca-4f16-9f40-cfec031f199f",
   "metadata": {},
   "outputs": [
    {
     "name": "stdout",
     "output_type": "stream",
     "text": [
      "Tiger\n",
      "Elephant\n",
      "Monkey\n",
      "Zebra\n",
      "Panther\n"
     ]
    }
   ],
   "source": [
    "animals=['tiger', 'elephant', 'monkey', 'zebra', 'panther']\n",
    "\n",
    "for names in animals:\n",
    "    print(names.capitalize()) "
   ]
  },
  {
   "cell_type": "markdown",
   "id": "63ff3b8d-c1a8-4576-bb22-25aaeda636cb",
   "metadata": {},
   "source": [
    "#### 3. Write a program that iterates from 1 to 20, printing each number and whether it's odd or even."
   ]
  },
  {
   "cell_type": "code",
   "execution_count": 61,
   "id": "75881bee-4bcb-426c-89e1-781a4ae8d359",
   "metadata": {},
   "outputs": [
    {
     "name": "stdout",
     "output_type": "stream",
     "text": [
      "1 is odd.\n",
      "2 is even.\n",
      "3 is odd.\n",
      "4 is even.\n",
      "5 is odd.\n",
      "6 is even.\n",
      "7 is odd.\n",
      "8 is even.\n",
      "9 is odd.\n",
      "10 is even.\n",
      "11 is odd.\n",
      "12 is even.\n",
      "13 is odd.\n",
      "14 is even.\n",
      "15 is odd.\n",
      "16 is even.\n",
      "17 is odd.\n",
      "18 is even.\n",
      "19 is odd.\n",
      "20 is even.\n"
     ]
    }
   ],
   "source": [
    "def test_even_number(number):\n",
    "    '''Function that returns even or odd for a number'''\n",
    "    if number%2==0:\n",
    "        return print(f\"{number} is even.\")\n",
    "    else:\n",
    "        return print(f\"{number} is odd.\")\n",
    "\n",
    "for number in range(1,21):\n",
    "    test_even_number(number)\n"
   ]
  },
  {
   "cell_type": "markdown",
   "id": "7327b1e4-a1c5-44ba-b374-9e37e95ea34b",
   "metadata": {},
   "source": [
    "#### 4. Write a function sum_of_integers(a, b) that takes two integers as input from the user and returns their sum."
   ]
  },
  {
   "cell_type": "code",
   "execution_count": 75,
   "id": "f90fb498-e936-446c-9e08-f6dfbf5fceac",
   "metadata": {},
   "outputs": [
    {
     "name": "stdin",
     "output_type": "stream",
     "text": [
      "Input an integer: 100\n",
      "Input another integer: 375\n"
     ]
    },
    {
     "name": "stdout",
     "output_type": "stream",
     "text": [
      "The sum of 100 and 375 is 475.\n"
     ]
    }
   ],
   "source": [
    "def sum_of_integers(a,b):\n",
    "    '''Function that returns the sum of two integers'''\n",
    "    x=int(a)+int(b)\n",
    "    print(f\"The sum of {a} and {b} is {x}.\")\n",
    "    return \n",
    "\n",
    "a = input(\"Input an integer:\")\n",
    "b = input(\"Input another integer:\")\n",
    "\n",
    "sum_of_integers(a,b)\n"
   ]
  }
 ],
 "metadata": {
  "kernelspec": {
   "display_name": "Python 3 (ipykernel)",
   "language": "python",
   "name": "python3"
  },
  "language_info": {
   "codemirror_mode": {
    "name": "ipython",
    "version": 3
   },
   "file_extension": ".py",
   "mimetype": "text/x-python",
   "name": "python",
   "nbconvert_exporter": "python",
   "pygments_lexer": "ipython3",
   "version": "3.12.3"
  }
 },
 "nbformat": 4,
 "nbformat_minor": 5
}
